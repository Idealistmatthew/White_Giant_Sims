{
 "cells": [
  {
   "cell_type": "markdown",
   "metadata": {},
   "source": [
    "# Simple Engine\n",
    "\n",
    "This is a very simple engine example, that requires no additional modules other than those installed with Bamboo.\n",
    "\n",
    "- Chamber temperature: 2615.09 K\n",
    "- Chamber pressure: 15 bar "
   ]
  },
  {
   "cell_type": "code",
   "execution_count": 3,
   "metadata": {},
   "outputs": [],
   "source": [
    "# Import required modules\n",
    "import cusfbamboo as bam\n",
    "import numpy as np\n",
    "from CoolProp.CoolProp import PropsSI\n",
    "import cantera as ct"
   ]
  },
  {
   "cell_type": "markdown",
   "metadata": {},
   "source": [
    "### Engine Operating Point\n",
    "\n",
    "Pressures, temperatures, mass flow rates, geometry."
   ]
  },
  {
   "cell_type": "code",
   "execution_count": 6,
   "metadata": {},
   "outputs": [
    {
     "name": "stderr",
     "output_type": "stream",
     "text": [
      "C:\\Users\\USER\\AppData\\Local\\Temp/ipykernel_13048/282460036.py:23: UserWarning: The area ratio provided (2.809741674968918) is outside of the range of available data. Maximum available is 54.623, minimum is 3.678. Will use a 15 degree cone instead.\n",
      "  xs, rs = bam.rao.get_rao_contour(r_c = Rc,\n"
     ]
    }
   ],
   "source": [
    "# Chamber conditions\n",
    "pc = 15e5                   # Chamber pressure (Pa)\n",
    "Tc = 2615.09                   # Combustion chamber temperature (K) - would normally get this from an equilibrium program (e.g. Cantera, NASA CEA, ProPEP).\n",
    "pe = 1.01325e5\n",
    "Isp = 1981.3\n",
    "Thrust = 10000\n",
    "mdot = Thrust/Isp\n",
    "chamber_conditions = bam.ChamberConditions(p0 = pc, T0 = Tc)\n",
    "perfect_gas = bam.PerfectGas(gamma = 1.2413, cp = 1907.2)\n",
    "\n",
    "\n",
    "# Geometry properties\n",
    "Rc = 0.1                  # Chamber radius (m)\n",
    "At = bam.isen.get_throat_area(perfect_gas,chamber_conditions,mdot)\n",
    "Ae = bam.isen.get_exit_area(perfect_gas, chamber_conditions,pe, mdot)\n",
    "Rt =(At/np.pi)**0.5                # Throat radius (m)\n",
    "Re =(Ae/np.pi)**0.5\n",
    "area_ratio = Ae/At              # Area ratio (A_exit / A_throat)\n",
    "Lc = 0.3                   # Length of chamber (up to beginning of nozzle converging section) (m)\n",
    "theta_conv = 45             # Angle of converging section (deg)\n",
    "\n",
    "# Use the in-built Rao geometry generator\n",
    "xs, rs = bam.rao.get_rao_contour(r_c = Rc, \n",
    "                                 r_t = Rt, \n",
    "                                 area_ratio = area_ratio, \n",
    "                                 L_c = Lc, \n",
    "                                 theta_conv = theta_conv)"
   ]
  },
  {
   "cell_type": "markdown",
   "metadata": {},
   "source": [
    "### Transport Properties\n",
    "\n"
   ]
  },
  {
   "cell_type": "code",
   "execution_count": 8,
   "metadata": {},
   "outputs": [
    {
     "name": "stdout",
     "output_type": "stream",
     "text": [
      "\n",
      "  gri30:\n",
      "\n",
      "       temperature   2615.1 K\n",
      "          pressure   1.5e+06 Pa\n",
      "           density   1.5795 kg/m^3\n",
      "  mean mol. weight   22.896 kg/kmol\n",
      "   phase of matter   gas\n",
      "\n",
      "                          1 kg             1 kmol     \n",
      "                     ---------------   ---------------\n",
      "          enthalpy           -816.75            -18700  J\n",
      "   internal energy       -9.5047e+05       -2.1762e+07  J\n",
      "           entropy             10888         2.493e+05  J/K\n",
      "    Gibbs function       -2.8475e+07       -6.5196e+08  J\n",
      " heat capacity c_p            1801.6             41250  J/K\n",
      " heat capacity c_v            1438.5             32935  J/K\n",
      "\n",
      "                      mass frac. Y      mole frac. X     chem. pot. / RT\n",
      "                     ---------------   ---------------   ---------------\n",
      "                H2          0.012765           0.14497           -19.603\n",
      "                 H        0.00017792         0.0040412           -9.8013\n",
      "                 O          1.57e-05        2.2469e-05           -19.193\n",
      "                O2        1.6836e-05        1.2047e-05           -38.386\n",
      "                OH        0.00092806         0.0012494           -28.994\n",
      "               H2O           0.15031           0.19103           -38.795\n",
      "               HO2        4.9162e-08        3.4103e-08           -48.187\n",
      "              H2O2        3.4066e-08        2.2931e-08           -57.988\n",
      "                 C         1.175e-12        2.2399e-12           -13.402\n",
      "                CH        1.7359e-12        3.0528e-12           -23.203\n",
      "               CH2        2.4124e-11        3.9377e-11           -33.004\n",
      "            CH2(S)        1.9671e-12        3.2109e-12           -33.004\n",
      "               CH3        5.5345e-10        8.4281e-10           -42.806\n",
      "               CH4        1.2184e-09        1.7388e-09           -52.607\n",
      "                CO           0.25836           0.21119           -32.595\n",
      "               CO2          0.082263          0.042798           -51.788\n",
      "               HCO         1.956e-06        1.5434e-06           -42.396\n",
      "              CH2O        2.4142e-07        1.8409e-07           -52.197\n",
      "             CH2OH        4.0777e-11        3.0084e-11           -61.999\n",
      "              CH3O        8.4138e-13        6.2074e-13           -61.999\n",
      "             CH3OH         1.874e-11        1.3391e-11             -71.8\n",
      "               C2H        1.3301e-14        1.2167e-14           -36.605\n",
      "              C2H2        5.4903e-12        4.8277e-12           -46.406\n",
      "              HCCO        2.6325e-12         1.469e-12           -55.798\n",
      "             CH2CO        1.4343e-11        7.8123e-12           -65.599\n",
      "             HCCOH        4.1304e-14        2.2497e-14           -65.599\n",
      "                 N        8.2288e-08        1.3451e-07            -13.04\n",
      "                NH        1.3156e-07        2.0061e-07           -22.841\n",
      "               NH2        3.5011e-07        5.0029e-07           -32.642\n",
      "               NH3        3.7147e-06        4.9938e-06           -42.443\n",
      "               NNH        9.8951e-08        7.8064e-08            -35.88\n",
      "                NO        0.00019908         0.0001519           -32.233\n",
      "               NO2        7.0839e-09        3.5255e-09           -51.426\n",
      "               N2O        4.5098e-08         2.346e-08           -45.272\n",
      "               HNO          1.03e-07        7.6036e-08           -42.034\n",
      "                CN        2.2912e-09        2.0163e-09           -26.441\n",
      "               HCN        1.4259e-06         1.208e-06           -36.243\n",
      "              H2CN        2.5451e-11        2.0786e-11           -46.044\n",
      "              HCNO        3.3877e-12        1.8028e-12           -55.436\n",
      "              HOCN        8.0006e-09        4.2576e-09           -55.436\n",
      "              HNCO        1.2185e-06        6.4843e-07           -55.436\n",
      "               NCO        1.4913e-08        8.1263e-09           -45.634\n",
      "                N2           0.49495           0.40452           -26.079\n",
      "     [  +10 minor]        1.9929e-14        1.3084e-14  \n",
      "\n"
     ]
    }
   ],
   "source": [
    "OF_ratio = 3.5                             # Oxidiser/fuel mass ratio\n",
    "ipa_mass = 1\n",
    "n2o_mass = OF_ratio\n",
    "\n",
    "# Setup the exhaust gas transport properties using Cantera\n",
    "gri30 = ct.Solution('gri30.yaml')\n",
    "\n",
    "ipa_ct = ct.Quantity(gri30, constant = \"TP\", mass = ipa_mass)\n",
    "ipa_ct.TPX = Tc, pc, \"C:3, H:8, O:1\"\n",
    "\n",
    "n2o_ct = ct.Quantity(gri30, constant = \"TP\", mass = n2o_mass)\n",
    "n2o_ct.TPX = Tc, pc, \"N:2, O:1\"\n",
    "\n",
    "# Mix and reach equilibrium at chamber conditions\n",
    "quantity = ipa_ct + n2o_ct\n",
    "quantity.equilibrate(\"TP\")\n",
    "\n",
    "gas = ct.Solution('gri30.yaml')\n",
    "gas.TPY = quantity.TPY\n",
    "gas()\n",
    "\n",
    "def mu_exhaust(T, p):\n",
    "    gas.TP = T, p\n",
    "    return gas.viscosity\n",
    "\n",
    "def k_exhaust(T, p):\n",
    "    gas.TP = T, p\n",
    "    return gas.thermal_conductivity\n",
    "\n",
    "def Pr_exhaust(T, p):\n",
    "    gas.TP = T, p\n",
    "    return gas.cp * gas.viscosity / gas.thermal_conductivity # Definition of Prandtl number\n",
    "\n",
    "\n",
    "# Coolant is pure water - use CoolProp\n",
    "def Pr_coolant(T, p):\n",
    "    try:\n",
    "        return PropsSI(\"PRANDTL\", \"T\", T, \"P\", p, \"Ethanol\")\n",
    "    except ValueError:\n",
    "        return PropsSI(\"PRANDTL\", \"Q\", 0, \"P\", p, \"Ethanol\")\n",
    "\n",
    "def mu_coolant(T, p):\n",
    "    try:\n",
    "        return PropsSI(\"VISCOSITY\", \"T\", T, \"P\", p, \"Ethanol\")\n",
    "    except ValueError:\n",
    "        return PropsSI(\"VISCOSITY\", \"Q\", 0, \"P\", p, \"Ethanol\")\n",
    "\n",
    "def k_coolant(T, p):\n",
    "    try:\n",
    "        return PropsSI(\"CONDUCTIVITY\", \"T\", T, \"P\", p, \"Ethanol\")\n",
    "    except ValueError:\n",
    "        return PropsSI(\"CONDUCTIVITY\", \"Q\", 0, \"P\", p, \"Ethanol\")\n",
    "\n",
    "def rho_coolant(T, p):\n",
    "    try:\n",
    "        return PropsSI(\"DMASS\", \"T\", T, \"P\", p, \"Ethanol\")\n",
    "    except ValueError:\n",
    "        return PropsSI(\"DMASS\", \"Q\", 0, \"P\", p, \"Ethanol\")\n",
    "\n",
    "def cp_coolant(T, p):\n",
    "    try:\n",
    "        return PropsSI(\"CPMASS\", \"T\", T, \"P\", p, \"Ethanol\")\n",
    "    except ValueError:\n",
    "        return PropsSI(\"CPMASS\", \"Q\", 0, \"P\", p, \"Ethanol\")\n",
    "\n",
    "\n",
    "# Transport property objects\n",
    "exhaust_transport = bam.TransportProperties(Pr = Pr_exhaust,\n",
    "                                            mu = mu_exhaust,\n",
    "                                            k = k_exhaust)\n",
    "\n",
    "coolant_transport = bam.TransportProperties(Pr = Pr_coolant,\n",
    "                                            mu = mu_coolant,\n",
    "                                            k = k_coolant,\n",
    "                                            cp = cp_coolant,\n",
    "                                            rho = rho_coolant)"
   ]
  },
  {
   "cell_type": "code",
   "execution_count": null,
   "metadata": {},
   "outputs": [],
   "source": []
  },
  {
   "cell_type": "markdown",
   "metadata": {},
   "source": [
    "### Engine Set Up\n",
    "We will now use Bamboo to do the cooling system analysis. Will set up:\n",
    "\n",
    "- Perfect gas model\n",
    "- Combustion chamber conditions\n",
    "- Geometry\n",
    "- Walls\n",
    "- Exhaust gas transport properties"
   ]
  },
  {
   "cell_type": "code",
   "execution_count": 9,
   "metadata": {},
   "outputs": [
    {
     "data": {
      "image/png": "[encoded data removed]",
      "text/plain": [
       "<Figure size 432x288 with 1 Axes>"
      ]
     },
     "metadata": {
      "needs_background": "light"
     },
     "output_type": "display_data"
    },
    {
     "name": "stdout",
     "output_type": "stream",
     "text": [
      "Sea Level Thrust = 10198.045921566494 N\n",
      "Sea Level Specific Impulse = 2020.5388384399694 m/s\n"
     ]
    }
   ],
   "source": [
    "# Set up the objects we need\n",
    "geometry = bam.Geometry(xs = xs, rs = rs)\n",
    "exhaust_transport = bam.materials.CO2                                  # Use the built-in CO2 approximation\n",
    "wall = bam.Wall(material = bam.materials.CopperC106, thickness = 2e-3) # Use the built in C106 copper data\n",
    "\n",
    "# Submit them all at inputs to the Engine object\n",
    "engine = bam.Engine(perfect_gas = perfect_gas, \n",
    "                    chamber_conditions = chamber_conditions, \n",
    "                    geometry = geometry,\n",
    "                    exhaust_transport = exhaust_transport,\n",
    "                    walls = wall)\n",
    "engine.plot()\n",
    "bam.show()\n",
    "\n",
    "print(f\"Sea Level Thrust = {engine.thrust(p_amb = 1e5)} N\")\n",
    "print(f\"Sea Level Specific Impulse = {engine.isp(p_amb = 1e5)} m/s\")"
   ]
  },
  {
   "cell_type": "markdown",
   "metadata": {},
   "source": [
    "### Cooling Jacket\n",
    "\n",
    "Add the cooling channel details. We will use 'vertical' channels (`configuration = 'vertical'` as opposed to `configuration = 'spiral'`). This image is an example of 'vertical' channels: https://slideplayer.com/slide/4179683/14/images/6/Cooling+Channels.jpg"
   ]
  },
  {
   "cell_type": "code",
   "execution_count": 12,
   "metadata": {},
   "outputs": [],
   "source": [
    "# Cooling jacket properties\n",
    "inlet_T = 298.15                           # Coolant inlet static temperature (K)\n",
    "inlet_p = 30e5                             # Coolant inlet static pressure (bar)\n",
    "mdot_coolant = mdot*1/(OF_ratio + 1) # Coolant mass flow rate (kg/s)\n",
    "\n",
    "# Add a cooling jacket to the engine\n",
    "engine.cooling_jacket = bam.CoolingJacket(T_coolant_in = inlet_T, \n",
    "                                         p_coolant_in = inlet_p, \n",
    "                                         mdot_coolant = mdot_coolant, \n",
    "                                         channel_height = 2e-3,\n",
    "                                         blockage_ratio = 0.5,\n",
    "                                         number_of_channels = 100,\n",
    "                                         coolant_transport = coolant_transport,   # Use bamboo's built-in water approximation\n",
    "                                         configuration = 'vertical')\n",
    "\n"
   ]
  },
  {
   "cell_type": "markdown",
   "metadata": {},
   "source": [
    "### Run Cooling Analysis"
   ]
  },
  {
   "cell_type": "code",
   "execution_count": 13,
   "metadata": {
    "scrolled": false
   },
   "outputs": [
    {
     "ename": "TypeError",
     "evalue": "object of type 'numpy.float64' has no len()",
     "output_type": "error",
     "traceback": [
      "\u001b[1;31m---------------------------------------------------------------------------\u001b[0m",
      "\u001b[1;31mTypeError\u001b[0m                                 Traceback (most recent call last)",
      "\u001b[1;32m~\\AppData\\Local\\Temp/ipykernel_13048/903248854.py\u001b[0m in \u001b[0;36m<module>\u001b[1;34m\u001b[0m\n\u001b[0;32m      1\u001b[0m \u001b[1;31m# Run the heating analysis - see the documentation for details on the various arguments.\u001b[0m\u001b[1;33m\u001b[0m\u001b[1;33m\u001b[0m\u001b[1;33m\u001b[0m\u001b[0m\n\u001b[1;32m----> 2\u001b[1;33m \u001b[0mcooling_data\u001b[0m \u001b[1;33m=\u001b[0m \u001b[0mengine\u001b[0m\u001b[1;33m.\u001b[0m\u001b[0msteady_heating_analysis\u001b[0m\u001b[1;33m(\u001b[0m\u001b[1;33m)\u001b[0m\u001b[1;33m\u001b[0m\u001b[1;33m\u001b[0m\u001b[0m\n\u001b[0m",
      "\u001b[1;32m~\\AppData\\Local\\Programs\\Python\\Python38-32\\lib\\site-packages\\cusfbamboo\\engine.py\u001b[0m in \u001b[0;36msteady_heating_analysis\u001b[1;34m(self, num_grid, counterflow, iter_start, iter_each)\u001b[0m\n\u001b[0;32m   1149\u001b[0m                                                 x_end = self.x_end)\n\u001b[0;32m   1150\u001b[0m \u001b[1;33m\u001b[0m\u001b[0m\n\u001b[1;32m-> 1151\u001b[1;33m         \u001b[0mcooling_simulation\u001b[0m\u001b[1;33m.\u001b[0m\u001b[0mrun\u001b[0m\u001b[1;33m(\u001b[0m\u001b[0miter_start\u001b[0m \u001b[1;33m=\u001b[0m \u001b[0miter_start\u001b[0m\u001b[1;33m,\u001b[0m \u001b[0miter_each\u001b[0m \u001b[1;33m=\u001b[0m \u001b[0miter_each\u001b[0m\u001b[1;33m)\u001b[0m\u001b[1;33m\u001b[0m\u001b[1;33m\u001b[0m\u001b[0m\n\u001b[0m\u001b[0;32m   1152\u001b[0m \u001b[1;33m\u001b[0m\u001b[0m\n\u001b[0;32m   1153\u001b[0m         \u001b[1;31m# Run through the results, and convert them into a convenient form, as well as calculating any useful-to-know values\u001b[0m\u001b[1;33m\u001b[0m\u001b[1;33m\u001b[0m\u001b[1;33m\u001b[0m\u001b[0m\n",
      "\u001b[1;32m~\\AppData\\Local\\Programs\\Python\\Python38-32\\lib\\site-packages\\cusfbamboo\\hx.py\u001b[0m in \u001b[0;36mrun\u001b[1;34m(self, iter_start, iter_each)\u001b[0m\n\u001b[0;32m    148\u001b[0m         \u001b[0mcounter\u001b[0m \u001b[1;33m=\u001b[0m \u001b[1;36m0\u001b[0m\u001b[1;33m\u001b[0m\u001b[1;33m\u001b[0m\u001b[0m\n\u001b[0;32m    149\u001b[0m         \u001b[1;32mwhile\u001b[0m \u001b[0mcounter\u001b[0m \u001b[1;33m<\u001b[0m \u001b[0miter_start\u001b[0m\u001b[1;33m:\u001b[0m\u001b[1;33m\u001b[0m\u001b[1;33m\u001b[0m\u001b[0m\n\u001b[1;32m--> 150\u001b[1;33m             \u001b[0mself\u001b[0m\u001b[1;33m.\u001b[0m\u001b[0miterate\u001b[0m\u001b[1;33m(\u001b[0m\u001b[1;33m)\u001b[0m\u001b[1;33m\u001b[0m\u001b[1;33m\u001b[0m\u001b[0m\n\u001b[0m\u001b[0;32m    151\u001b[0m             \u001b[0mcounter\u001b[0m \u001b[1;33m+=\u001b[0m \u001b[1;36m1\u001b[0m\u001b[1;33m\u001b[0m\u001b[1;33m\u001b[0m\u001b[0m\n\u001b[0;32m    152\u001b[0m \u001b[1;33m\u001b[0m\u001b[0m\n",
      "\u001b[1;32m~\\AppData\\Local\\Programs\\Python\\Python38-32\\lib\\site-packages\\cusfbamboo\\hx.py\u001b[0m in \u001b[0;36miterate\u001b[1;34m(self)\u001b[0m\n\u001b[0;32m    106\u001b[0m             \u001b[0mself\u001b[0m\u001b[1;33m.\u001b[0m\u001b[0mstate\u001b[0m\u001b[1;33m[\u001b[0m\u001b[0mi\u001b[0m\u001b[1;33m+\u001b[0m\u001b[1;36m1\u001b[0m\u001b[1;33m]\u001b[0m\u001b[1;33m[\u001b[0m\u001b[1;34m\"V_c\"\u001b[0m\u001b[1;33m]\u001b[0m \u001b[1;33m=\u001b[0m \u001b[0mself\u001b[0m\u001b[1;33m.\u001b[0m\u001b[0mV_c\u001b[0m\u001b[1;33m(\u001b[0m\u001b[0mself\u001b[0m\u001b[1;33m.\u001b[0m\u001b[0mstate\u001b[0m\u001b[1;33m[\u001b[0m\u001b[0mi\u001b[0m\u001b[1;33m+\u001b[0m\u001b[1;36m1\u001b[0m\u001b[1;33m]\u001b[0m\u001b[1;33m)\u001b[0m     \u001b[1;31m# Update V_c[i+1], since we have a new T_c[i+1]\u001b[0m\u001b[1;33m\u001b[0m\u001b[1;33m\u001b[0m\u001b[0m\n\u001b[0;32m    107\u001b[0m \u001b[1;33m\u001b[0m\u001b[0m\n\u001b[1;32m--> 108\u001b[1;33m             \u001b[0mdp_dx_f_i\u001b[0m \u001b[1;33m=\u001b[0m \u001b[0mself\u001b[0m\u001b[1;33m.\u001b[0m\u001b[0mdp_dx_f\u001b[0m\u001b[1;33m(\u001b[0m\u001b[0mself\u001b[0m\u001b[1;33m.\u001b[0m\u001b[0mstate\u001b[0m\u001b[1;33m[\u001b[0m\u001b[0mi\u001b[0m\u001b[1;33m]\u001b[0m\u001b[1;33m)\u001b[0m\u001b[1;33m\u001b[0m\u001b[1;33m\u001b[0m\u001b[0m\n\u001b[0m\u001b[0;32m    109\u001b[0m \u001b[1;33m\u001b[0m\u001b[0m\n\u001b[0;32m    110\u001b[0m             \u001b[0mself\u001b[0m\u001b[1;33m.\u001b[0m\u001b[0mstate\u001b[0m\u001b[1;33m[\u001b[0m\u001b[0mi\u001b[0m\u001b[1;33m+\u001b[0m\u001b[1;36m1\u001b[0m\u001b[1;33m]\u001b[0m\u001b[1;33m[\u001b[0m\u001b[1;34m\"p_c\"\u001b[0m\u001b[1;33m]\u001b[0m \u001b[1;33m=\u001b[0m \u001b[0mself\u001b[0m\u001b[1;33m.\u001b[0m\u001b[0mstate\u001b[0m\u001b[1;33m[\u001b[0m\u001b[0mi\u001b[0m\u001b[1;33m]\u001b[0m\u001b[1;33m[\u001b[0m\u001b[1;34m\"p_c\"\u001b[0m\u001b[1;33m]\u001b[0m \u001b[1;33m-\u001b[0m \u001b[0mself\u001b[0m\u001b[1;33m.\u001b[0m\u001b[0mmdot_c\u001b[0m \u001b[1;33m/\u001b[0m \u001b[0mself\u001b[0m\u001b[1;33m.\u001b[0m\u001b[0mA_c\u001b[0m\u001b[1;33m(\u001b[0m\u001b[0mself\u001b[0m\u001b[1;33m.\u001b[0m\u001b[0mstate\u001b[0m\u001b[1;33m[\u001b[0m\u001b[0mi\u001b[0m\u001b[1;33m]\u001b[0m\u001b[1;33m)\u001b[0m \u001b[1;33m*\u001b[0m \u001b[1;33m(\u001b[0m\u001b[0mself\u001b[0m\u001b[1;33m.\u001b[0m\u001b[0mstate\u001b[0m\u001b[1;33m[\u001b[0m\u001b[0mi\u001b[0m\u001b[1;33m+\u001b[0m\u001b[1;36m1\u001b[0m\u001b[1;33m]\u001b[0m\u001b[1;33m[\u001b[0m\u001b[1;34m\"V_c\"\u001b[0m\u001b[1;33m]\u001b[0m \u001b[1;33m-\u001b[0m \u001b[0mself\u001b[0m\u001b[1;33m.\u001b[0m\u001b[0mstate\u001b[0m\u001b[1;33m[\u001b[0m\u001b[0mi\u001b[0m\u001b[1;33m]\u001b[0m\u001b[1;33m[\u001b[0m\u001b[1;34m\"V_c\"\u001b[0m\u001b[1;33m]\u001b[0m\u001b[1;33m)\u001b[0m \u001b[1;33m-\u001b[0m \u001b[0mabs\u001b[0m\u001b[1;33m(\u001b[0m\u001b[0mdp_dx_f_i\u001b[0m\u001b[1;33m)\u001b[0m \u001b[1;33m*\u001b[0m \u001b[0mabs\u001b[0m\u001b[1;33m(\u001b[0m\u001b[0mself\u001b[0m\u001b[1;33m.\u001b[0m\u001b[0mdx\u001b[0m\u001b[1;33m)\u001b[0m\u001b[1;33m\u001b[0m\u001b[1;33m\u001b[0m\u001b[0m\n",
      "\u001b[1;32m~\\AppData\\Local\\Programs\\Python\\Python38-32\\lib\\site-packages\\cusfbamboo\\engine.py\u001b[0m in \u001b[0;36mdp_dx_f\u001b[1;34m(self, state)\u001b[0m\n\u001b[0;32m   1086\u001b[0m         \u001b[1;31m# Fully developed pipe flow pressure drop [3] - this is dp/dL (pressure drop per unit length travelled by the fluid)\u001b[0m\u001b[1;33m\u001b[0m\u001b[1;33m\u001b[0m\u001b[1;33m\u001b[0m\u001b[0m\n\u001b[0;32m   1087\u001b[0m         \u001b[0mdp_dLc\u001b[0m \u001b[1;33m=\u001b[0m \u001b[1;33m-\u001b[0m \u001b[0mf_darcy\u001b[0m \u001b[1;33m*\u001b[0m \u001b[1;33m(\u001b[0m\u001b[0mrho_coolant\u001b[0m \u001b[1;33m/\u001b[0m \u001b[1;36m2\u001b[0m\u001b[1;33m)\u001b[0m \u001b[1;33m*\u001b[0m \u001b[1;33m(\u001b[0m\u001b[0mV_coolant\u001b[0m\u001b[1;33m**\u001b[0m\u001b[1;36m2\u001b[0m\u001b[1;33m)\u001b[0m\u001b[1;33m/\u001b[0m\u001b[0mDh\u001b[0m\u001b[1;33m\u001b[0m\u001b[1;33m\u001b[0m\u001b[0m\n\u001b[1;32m-> 1088\u001b[1;33m         \u001b[1;32mreturn\u001b[0m \u001b[0mdp_dLc\u001b[0m \u001b[1;33m*\u001b[0m \u001b[0mself\u001b[0m\u001b[1;33m.\u001b[0m\u001b[0mdLc_dx\u001b[0m\u001b[1;33m(\u001b[0m\u001b[0mx\u001b[0m\u001b[1;33m)\u001b[0m\u001b[1;33m\u001b[0m\u001b[1;33m\u001b[0m\u001b[0m\n\u001b[0m\u001b[0;32m   1089\u001b[0m \u001b[1;33m\u001b[0m\u001b[0m\n\u001b[0;32m   1090\u001b[0m     \u001b[1;31m# Functions for thermal simulations\u001b[0m\u001b[1;33m\u001b[0m\u001b[1;33m\u001b[0m\u001b[1;33m\u001b[0m\u001b[0m\n",
      "\u001b[1;32m~\\AppData\\Local\\Programs\\Python\\Python38-32\\lib\\site-packages\\cusfbamboo\\engine.py\u001b[0m in \u001b[0;36mdLc_dx\u001b[1;34m(self, x)\u001b[0m\n\u001b[0;32m    725\u001b[0m             \u001b[0mfloat\u001b[0m\u001b[1;33m:\u001b[0m \u001b[0mdLc\u001b[0m\u001b[1;33m/\u001b[0m\u001b[0mdx\u001b[0m\u001b[1;33m\u001b[0m\u001b[1;33m\u001b[0m\u001b[0m\n\u001b[0;32m    726\u001b[0m         \"\"\"\n\u001b[1;32m--> 727\u001b[1;33m         \u001b[1;32mreturn\u001b[0m \u001b[1;36m1\u001b[0m \u001b[1;33m/\u001b[0m \u001b[1;33m(\u001b[0m \u001b[0mnp\u001b[0m\u001b[1;33m.\u001b[0m\u001b[0mcos\u001b[0m\u001b[1;33m(\u001b[0m\u001b[0mself\u001b[0m\u001b[1;33m.\u001b[0m\u001b[0mcoolant_slope\u001b[0m\u001b[1;33m(\u001b[0m\u001b[0mx\u001b[0m\u001b[1;33m)\u001b[0m\u001b[1;33m)\u001b[0m \u001b[1;33m*\u001b[0m \u001b[0mnp\u001b[0m\u001b[1;33m.\u001b[0m\u001b[0mcos\u001b[0m\u001b[1;33m(\u001b[0m\u001b[0mself\u001b[0m\u001b[1;33m.\u001b[0m\u001b[0mhelix_angle\u001b[0m\u001b[1;33m(\u001b[0m\u001b[0mx\u001b[0m\u001b[1;33m)\u001b[0m\u001b[1;33m)\u001b[0m \u001b[1;33m)\u001b[0m\u001b[1;33m\u001b[0m\u001b[1;33m\u001b[0m\u001b[0m\n\u001b[0m\u001b[0;32m    728\u001b[0m \u001b[1;33m\u001b[0m\u001b[0m\n\u001b[0;32m    729\u001b[0m     \u001b[1;32mdef\u001b[0m \u001b[0mA_coolant\u001b[0m\u001b[1;33m(\u001b[0m\u001b[0mself\u001b[0m\u001b[1;33m,\u001b[0m \u001b[0mx\u001b[0m\u001b[1;33m)\u001b[0m\u001b[1;33m:\u001b[0m\u001b[1;33m\u001b[0m\u001b[1;33m\u001b[0m\u001b[0m\n",
      "\u001b[1;32m~\\AppData\\Local\\Programs\\Python\\Python38-32\\lib\\site-packages\\cusfbamboo\\engine.py\u001b[0m in \u001b[0;36mcoolant_slope\u001b[1;34m(self, x)\u001b[0m\n\u001b[0;32m    713\u001b[0m             \u001b[1;32mreturn\u001b[0m \u001b[0mself\u001b[0m\u001b[1;33m.\u001b[0m\u001b[0mgeometry\u001b[0m\u001b[1;33m.\u001b[0m\u001b[0mr\u001b[0m\u001b[1;33m(\u001b[0m\u001b[0mx_position\u001b[0m\u001b[1;33m)\u001b[0m \u001b[1;33m+\u001b[0m \u001b[0mself\u001b[0m\u001b[1;33m.\u001b[0m\u001b[0mtotal_wall_thickness\u001b[0m\u001b[1;33m(\u001b[0m\u001b[0mx_position\u001b[0m\u001b[1;33m)\u001b[0m\u001b[1;33m\u001b[0m\u001b[1;33m\u001b[0m\u001b[0m\n\u001b[0;32m    714\u001b[0m \u001b[1;33m\u001b[0m\u001b[0m\n\u001b[1;32m--> 715\u001b[1;33m         \u001b[0mdr_dx\u001b[0m \u001b[1;33m=\u001b[0m \u001b[0mscipy\u001b[0m\u001b[1;33m.\u001b[0m\u001b[0moptimize\u001b[0m\u001b[1;33m.\u001b[0m\u001b[0mapprox_fprime\u001b[0m\u001b[1;33m(\u001b[0m\u001b[0mxk\u001b[0m \u001b[1;33m=\u001b[0m \u001b[0mx\u001b[0m\u001b[1;33m,\u001b[0m \u001b[0mf\u001b[0m \u001b[1;33m=\u001b[0m \u001b[0mr\u001b[0m\u001b[1;33m,\u001b[0m \u001b[0mepsilon\u001b[0m \u001b[1;33m=\u001b[0m \u001b[1;36m1e-6\u001b[0m\u001b[1;33m)\u001b[0m         \u001b[1;31m# Assume wall is smooth over a 1e-6 m segment.\u001b[0m\u001b[1;33m\u001b[0m\u001b[1;33m\u001b[0m\u001b[0m\n\u001b[0m\u001b[0;32m    716\u001b[0m         \u001b[1;32mreturn\u001b[0m \u001b[0mnp\u001b[0m\u001b[1;33m.\u001b[0m\u001b[0marctan\u001b[0m\u001b[1;33m(\u001b[0m\u001b[0mdr_dx\u001b[0m\u001b[1;33m[\u001b[0m\u001b[1;36m0\u001b[0m\u001b[1;33m]\u001b[0m\u001b[1;33m)\u001b[0m\u001b[1;33m\u001b[0m\u001b[1;33m\u001b[0m\u001b[0m\n\u001b[0;32m    717\u001b[0m \u001b[1;33m\u001b[0m\u001b[0m\n",
      "\u001b[1;32m~\\AppData\\Local\\Programs\\Python\\Python38-32\\lib\\site-packages\\scipy\\optimize\\optimize.py\u001b[0m in \u001b[0;36mapprox_fprime\u001b[1;34m(xk, f, epsilon, *args)\u001b[0m\n\u001b[0;32m    763\u001b[0m \u001b[1;33m\u001b[0m\u001b[0m\n\u001b[0;32m    764\u001b[0m     \"\"\"\n\u001b[1;32m--> 765\u001b[1;33m     \u001b[1;32mreturn\u001b[0m \u001b[0m_approx_fprime_helper\u001b[0m\u001b[1;33m(\u001b[0m\u001b[0mxk\u001b[0m\u001b[1;33m,\u001b[0m \u001b[0mf\u001b[0m\u001b[1;33m,\u001b[0m \u001b[0mepsilon\u001b[0m\u001b[1;33m,\u001b[0m \u001b[0margs\u001b[0m\u001b[1;33m=\u001b[0m\u001b[0margs\u001b[0m\u001b[1;33m)\u001b[0m\u001b[1;33m\u001b[0m\u001b[1;33m\u001b[0m\u001b[0m\n\u001b[0m\u001b[0;32m    766\u001b[0m \u001b[1;33m\u001b[0m\u001b[0m\n\u001b[0;32m    767\u001b[0m \u001b[1;33m\u001b[0m\u001b[0m\n",
      "\u001b[1;32m~\\AppData\\Local\\Programs\\Python\\Python38-32\\lib\\site-packages\\scipy\\optimize\\optimize.py\u001b[0m in \u001b[0;36m_approx_fprime_helper\u001b[1;34m(xk, f, epsilon, args, f0)\u001b[0m\n\u001b[0;32m    690\u001b[0m     \u001b[1;32mif\u001b[0m \u001b[0mf0\u001b[0m \u001b[1;32mis\u001b[0m \u001b[1;32mNone\u001b[0m\u001b[1;33m:\u001b[0m\u001b[1;33m\u001b[0m\u001b[1;33m\u001b[0m\u001b[0m\n\u001b[0;32m    691\u001b[0m         \u001b[0mf0\u001b[0m \u001b[1;33m=\u001b[0m \u001b[0mf\u001b[0m\u001b[1;33m(\u001b[0m\u001b[1;33m*\u001b[0m\u001b[1;33m(\u001b[0m\u001b[1;33m(\u001b[0m\u001b[0mxk\u001b[0m\u001b[1;33m,\u001b[0m\u001b[1;33m)\u001b[0m \u001b[1;33m+\u001b[0m \u001b[0margs\u001b[0m\u001b[1;33m)\u001b[0m\u001b[1;33m)\u001b[0m\u001b[1;33m\u001b[0m\u001b[1;33m\u001b[0m\u001b[0m\n\u001b[1;32m--> 692\u001b[1;33m     \u001b[0mgrad\u001b[0m \u001b[1;33m=\u001b[0m \u001b[0mnumpy\u001b[0m\u001b[1;33m.\u001b[0m\u001b[0mzeros\u001b[0m\u001b[1;33m(\u001b[0m\u001b[1;33m(\u001b[0m\u001b[0mlen\u001b[0m\u001b[1;33m(\u001b[0m\u001b[0mxk\u001b[0m\u001b[1;33m)\u001b[0m\u001b[1;33m,\u001b[0m\u001b[1;33m)\u001b[0m\u001b[1;33m,\u001b[0m \u001b[0mfloat\u001b[0m\u001b[1;33m)\u001b[0m\u001b[1;33m\u001b[0m\u001b[1;33m\u001b[0m\u001b[0m\n\u001b[0m\u001b[0;32m    693\u001b[0m     \u001b[0mei\u001b[0m \u001b[1;33m=\u001b[0m \u001b[0mnumpy\u001b[0m\u001b[1;33m.\u001b[0m\u001b[0mzeros\u001b[0m\u001b[1;33m(\u001b[0m\u001b[1;33m(\u001b[0m\u001b[0mlen\u001b[0m\u001b[1;33m(\u001b[0m\u001b[0mxk\u001b[0m\u001b[1;33m)\u001b[0m\u001b[1;33m,\u001b[0m\u001b[1;33m)\u001b[0m\u001b[1;33m,\u001b[0m \u001b[0mfloat\u001b[0m\u001b[1;33m)\u001b[0m\u001b[1;33m\u001b[0m\u001b[1;33m\u001b[0m\u001b[0m\n\u001b[0;32m    694\u001b[0m     \u001b[1;32mfor\u001b[0m \u001b[0mk\u001b[0m \u001b[1;32min\u001b[0m \u001b[0mrange\u001b[0m\u001b[1;33m(\u001b[0m\u001b[0mlen\u001b[0m\u001b[1;33m(\u001b[0m\u001b[0mxk\u001b[0m\u001b[1;33m)\u001b[0m\u001b[1;33m)\u001b[0m\u001b[1;33m:\u001b[0m\u001b[1;33m\u001b[0m\u001b[1;33m\u001b[0m\u001b[0m\n",
      "\u001b[1;31mTypeError\u001b[0m: object of type 'numpy.float64' has no len()"
     ]
    }
   ],
   "source": [
    "# Run the heating analysis - see the documentation for details on the various arguments.\n",
    "cooling_data = engine.steady_heating_analysis()"
   ]
  },
  {
   "cell_type": "code",
   "execution_count": 15,
   "metadata": {
    "scrolled": false
   },
   "outputs": [
    {
     "data": {
      "image/png": "[encoded data removed]",
      "text/plain": [
       "<Figure size 432x288 with 1 Axes>"
      ]
     },
     "metadata": {
      "needs_background": "light"
     },
     "output_type": "display_data"
    },
    {
     "ename": "NameError",
     "evalue": "name 'cooling_data' is not defined",
     "output_type": "error",
     "traceback": [
      "\u001b[1;31m---------------------------------------------------------------------------\u001b[0m",
      "\u001b[1;31mNameError\u001b[0m                                 Traceback (most recent call last)",
      "\u001b[1;32m~\\AppData\\Local\\Temp/ipykernel_13048/3197631909.py\u001b[0m in \u001b[0;36m<module>\u001b[1;34m\u001b[0m\n\u001b[0;32m      3\u001b[0m \u001b[0mbam\u001b[0m\u001b[1;33m.\u001b[0m\u001b[0mshow\u001b[0m\u001b[1;33m(\u001b[0m\u001b[1;33m)\u001b[0m\u001b[1;33m\u001b[0m\u001b[1;33m\u001b[0m\u001b[0m\n\u001b[0;32m      4\u001b[0m \u001b[1;33m\u001b[0m\u001b[0m\n\u001b[1;32m----> 5\u001b[1;33m \u001b[0mbam\u001b[0m\u001b[1;33m.\u001b[0m\u001b[0mplot\u001b[0m\u001b[1;33m.\u001b[0m\u001b[0mplot_coolant_velocity\u001b[0m\u001b[1;33m(\u001b[0m\u001b[0mcooling_data\u001b[0m\u001b[1;33m)\u001b[0m\u001b[1;33m\u001b[0m\u001b[1;33m\u001b[0m\u001b[0m\n\u001b[0m\u001b[0;32m      6\u001b[0m \u001b[0mbam\u001b[0m\u001b[1;33m.\u001b[0m\u001b[0mshow\u001b[0m\u001b[1;33m(\u001b[0m\u001b[1;33m)\u001b[0m\u001b[1;33m\u001b[0m\u001b[1;33m\u001b[0m\u001b[0m\n\u001b[0;32m      7\u001b[0m \u001b[1;33m\u001b[0m\u001b[0m\n",
      "\u001b[1;31mNameError\u001b[0m: name 'cooling_data' is not defined"
     ]
    }
   ],
   "source": [
    "# Use the built in plotting functions to quickly generate some plots\n",
    "engine.plot()\n",
    "bam.show()\n",
    "\n",
    "bam.plot.plot_coolant_velocity(cooling_data)\n",
    "bam.show()\n",
    "\n",
    "bam.plot.plot_temperatures(cooling_data, only_indexes = [0, 1, 2])   # Exclude the exhaust gas temperature from the plot\n",
    "bam.show()\n",
    "\n",
    "bam.plot.plot_p_coolant(cooling_data)\n",
    "bam.show()\n",
    "\n",
    "bam.plot.plot_q_per_area(cooling_data)\n",
    "bam.show()\n",
    "\n",
    "bam.plot.plot_tangential_stress(cooling_data, wall_index = 0)\n",
    "bam.show()"
   ]
  }
 ],
 "metadata": {
  "kernelspec": {
   "display_name": "Python 3",
   "language": "python",
   "name": "python3"
  },
  "language_info": {
   "codemirror_mode": {
    "name": "ipython",
    "version": 3
   },
   "file_extension": ".py",
   "mimetype": "text/x-python",
   "name": "python",
   "nbconvert_exporter": "python",
   "pygments_lexer": "ipython3",
   "version": "3.8.10"
  }
 },
 "nbformat": 4,
 "nbformat_minor": 4
}
